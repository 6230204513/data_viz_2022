{
  "nbformat": 4,
  "nbformat_minor": 0,
  "metadata": {
    "colab": {
      "name": "Data Structure.ipynb",
      "provenance": [],
      "authorship_tag": "ABX9TyMSUnzkxQd23ab3OXA5EzG1",
      "include_colab_link": true
    },
    "kernelspec": {
      "name": "python3",
      "display_name": "Python 3"
    },
    "language_info": {
      "name": "python"
    }
  },
  "cells": [
    {
      "cell_type": "markdown",
      "metadata": {
        "id": "view-in-github",
        "colab_type": "text"
      },
      "source": [
        "<a href=\"https://colab.research.google.com/github/6230204513/data_viz_2022/blob/main/Data_Structure.ipynb\" target=\"_parent\"><img src=\"https://colab.research.google.com/assets/colab-badge.svg\" alt=\"Open In Colab\"/></a>"
      ]
    },
    {
      "cell_type": "markdown",
      "source": [
        "# Data Structure (โครงสร้างข้อมูล)\n",
        "การเก็บข้อมูลหลายๆตัวไว้ด้วยกันอย่างเป็นระเบียบ "
      ],
      "metadata": {
        "id": "odskVjhz52MU"
      }
    },
    {
      "cell_type": "markdown",
      "source": [
        "## `list()`\n",
        "การนำข้อมูลมาต่อๆกัน\n",
        "list คือตัวเก็บข้อมูลรวมกันอย่างง่าย \n",
        "- เก็บอะไรก็ได้\n",
        "- ลำดับของการเก็บมีความสำคัญ\n",
        "\n"
      ],
      "metadata": {
        "id": "cDjBWzmJ6U1U"
      }
    },
    {
      "cell_type": "code",
      "execution_count": null,
      "metadata": {
        "id": "SwfmP8tU4tWH"
      },
      "outputs": [],
      "source": [
        "list_a = [1,2,3,4,5,6] # list ใช้ [ ] squate brackets"
      ]
    },
    {
      "cell_type": "code",
      "source": [
        "list_a"
      ],
      "metadata": {
        "colab": {
          "base_uri": "https://localhost:8080/"
        },
        "id": "mFZzo6YW6q-0",
        "outputId": "bb26f041-71ff-4552-a0a0-3082a1b8237d"
      },
      "execution_count": null,
      "outputs": [
        {
          "output_type": "execute_result",
          "data": {
            "text/plain": [
              "[1, 2, 3, 4, 5, 6]"
            ]
          },
          "metadata": {},
          "execution_count": 2
        }
      ]
    },
    {
      "cell_type": "code",
      "source": [
        "list_b = ['ab',2,3.14,list_a] #สามารถเก็บข้อมูลอะไรก็ได้ และลำดับมีความสำคัญไม่สามารถสลับกันได้"
      ],
      "metadata": {
        "id": "en-4sgTw6_cr"
      },
      "execution_count": null,
      "outputs": []
    },
    {
      "cell_type": "markdown",
      "source": [
        "### indexing การชี้สมาชิกใน list ด้วย เลขลำดับของ list\n",
        "- ลำดับเริ่มจาก 0"
      ],
      "metadata": {
        "id": "Lm-V6a3B8SDc"
      }
    },
    {
      "cell_type": "code",
      "source": [
        "list_a[3]"
      ],
      "metadata": {
        "colab": {
          "base_uri": "https://localhost:8080/"
        },
        "id": "duOC19c47k3N",
        "outputId": "e88821e8-b8b8-4573-f013-1565101428e1"
      },
      "execution_count": null,
      "outputs": [
        {
          "output_type": "execute_result",
          "data": {
            "text/plain": [
              "4"
            ]
          },
          "metadata": {},
          "execution_count": 11
        }
      ]
    },
    {
      "cell_type": "code",
      "source": [
        "list_b[3]"
      ],
      "metadata": {
        "colab": {
          "base_uri": "https://localhost:8080/"
        },
        "id": "r69nNXHA75Ws",
        "outputId": "58008088-a10b-4d87-f031-f666a98efa78"
      },
      "execution_count": null,
      "outputs": [
        {
          "output_type": "execute_result",
          "data": {
            "text/plain": [
              "[1, 2, 3, 4, 5, 6]"
            ]
          },
          "metadata": {},
          "execution_count": 12
        }
      ]
    },
    {
      "cell_type": "code",
      "source": [
        "list_b[3][4]"
      ],
      "metadata": {
        "colab": {
          "base_uri": "https://localhost:8080/"
        },
        "id": "eS5TVVwj8Fk0",
        "outputId": "ab588747-953f-4cac-bcfb-9be4dbaa8528"
      },
      "execution_count": null,
      "outputs": [
        {
          "output_type": "execute_result",
          "data": {
            "text/plain": [
              "5"
            ]
          },
          "metadata": {},
          "execution_count": 13
        }
      ]
    },
    {
      "cell_type": "code",
      "source": [
        "list_a[-1] # index -1 คือตัวสุดท้ายของ list"
      ],
      "metadata": {
        "colab": {
          "base_uri": "https://localhost:8080/"
        },
        "id": "rRY2UFTt8rLC",
        "outputId": "5396226f-21b8-4678-dc2f-1a55265280a0"
      },
      "execution_count": null,
      "outputs": [
        {
          "output_type": "execute_result",
          "data": {
            "text/plain": [
              "6"
            ]
          },
          "metadata": {},
          "execution_count": 14
        }
      ]
    },
    {
      "cell_type": "code",
      "source": [
        "list_a[-4] # index ติดลบ คือ เริ่มนับจากหลังมาหน้า"
      ],
      "metadata": {
        "colab": {
          "base_uri": "https://localhost:8080/"
        },
        "id": "dnuFUuox9JRC",
        "outputId": "1a19fb02-bb8f-41f3-87c0-59efc050a410"
      },
      "execution_count": null,
      "outputs": [
        {
          "output_type": "execute_result",
          "data": {
            "text/plain": [
              "3"
            ]
          },
          "metadata": {},
          "execution_count": 15
        }
      ]
    },
    {
      "cell_type": "markdown",
      "source": [
        "### การสร้าง ```list()```\n",
        "\n"
      ],
      "metadata": {
        "id": "aB4VIqNp9owa"
      }
    },
    {
      "cell_type": "code",
      "source": [
        "list_x1 = [] # แบบที่1\n",
        "list_x2 = list() # แบบที่2"
      ],
      "metadata": {
        "id": "cTCNR8mt9xND"
      },
      "execution_count": null,
      "outputs": []
    },
    {
      "cell_type": "code",
      "source": [
        "print(list_x1)\n",
        "print(list_x2)"
      ],
      "metadata": {
        "colab": {
          "base_uri": "https://localhost:8080/"
        },
        "id": "FrqN6HBo9-zz",
        "outputId": "110e436c-923f-46d4-fbb7-17e95e7ee8b1"
      },
      "execution_count": null,
      "outputs": [
        {
          "output_type": "stream",
          "name": "stdout",
          "text": [
            "[]\n",
            "[]\n"
          ]
        }
      ]
    },
    {
      "cell_type": "markdown",
      "source": [
        "### เพิ่มสมาชิกเข้าไปใน list ด้วย ```append()```\n",
        "\n"
      ],
      "metadata": {
        "id": "GgAF9Ae2-SuR"
      }
    },
    {
      "cell_type": "code",
      "source": [
        "list_x1.append(2) # 2 ถูกแทรกลงไปใน list_x1 ดังนั้น ต้อง run list_x1 ใหม่"
      ],
      "metadata": {
        "id": "-lKVjDkO-ceB"
      },
      "execution_count": null,
      "outputs": []
    },
    {
      "cell_type": "code",
      "source": [
        "list_x1"
      ],
      "metadata": {
        "colab": {
          "base_uri": "https://localhost:8080/"
        },
        "id": "XH7Rd45V-oLq",
        "outputId": "ef91cfbf-8646-4e12-d4ae-b943e3852073"
      },
      "execution_count": null,
      "outputs": [
        {
          "output_type": "execute_result",
          "data": {
            "text/plain": [
              "[2]"
            ]
          },
          "metadata": {},
          "execution_count": 19
        }
      ]
    },
    {
      "cell_type": "code",
      "source": [
        "list_x1.append(4)\n",
        "print(list_x1)"
      ],
      "metadata": {
        "colab": {
          "base_uri": "https://localhost:8080/"
        },
        "id": "Hh-NXzrz_hC_",
        "outputId": "368eb9fd-4122-47aa-e43d-ba61da0013b5"
      },
      "execution_count": null,
      "outputs": [
        {
          "output_type": "stream",
          "name": "stdout",
          "text": [
            "[2, 4, 4, 4]\n"
          ]
        }
      ]
    },
    {
      "cell_type": "markdown",
      "source": [
        "### ลบสมาชิกจาก list"
      ],
      "metadata": {
        "id": "6FINAW8GAOlB"
      }
    },
    {
      "cell_type": "code",
      "source": [
        "list_x1.pop() # ผลลัพธ์คือตัวที่ตัดทิ้ง"
      ],
      "metadata": {
        "colab": {
          "base_uri": "https://localhost:8080/"
        },
        "id": "kGQZn3twAHwJ",
        "outputId": "091a505f-0823-49b2-9771-7eebfec00522"
      },
      "execution_count": null,
      "outputs": [
        {
          "output_type": "execute_result",
          "data": {
            "text/plain": [
              "4"
            ]
          },
          "metadata": {},
          "execution_count": 24
        }
      ]
    },
    {
      "cell_type": "code",
      "source": [
        "list_x1"
      ],
      "metadata": {
        "colab": {
          "base_uri": "https://localhost:8080/"
        },
        "id": "5GNpS4G5AcHy",
        "outputId": "143abde6-a66b-4c22-f61e-05cafa9a6fcf"
      },
      "execution_count": null,
      "outputs": [
        {
          "output_type": "execute_result",
          "data": {
            "text/plain": [
              "[2, 4, 4]"
            ]
          },
          "metadata": {},
          "execution_count": 25
        }
      ]
    },
    {
      "cell_type": "code",
      "source": [
        "list_x1.pop()\n",
        "print(list_x1)"
      ],
      "metadata": {
        "colab": {
          "base_uri": "https://localhost:8080/"
        },
        "id": "DnRn9x38Agxi",
        "outputId": "d478fcc5-35da-4f1c-dc44-328f47abbb36"
      },
      "execution_count": null,
      "outputs": [
        {
          "output_type": "stream",
          "name": "stdout",
          "text": [
            "[2, 4]\n"
          ]
        }
      ]
    },
    {
      "cell_type": "code",
      "source": [
        "list_x2.append('ha') # run 3 ครั้ง แต่ลบตัวที่ run ครั้งแรกไป"
      ],
      "metadata": {
        "id": "NVEZW2dxBJcp"
      },
      "execution_count": null,
      "outputs": []
    },
    {
      "cell_type": "code",
      "source": [
        "list_x2"
      ],
      "metadata": {
        "colab": {
          "base_uri": "https://localhost:8080/"
        },
        "id": "Uz9cVMj8BZiS",
        "outputId": "1c8564ed-968e-47c1-ea16-2e86611a458e"
      },
      "execution_count": null,
      "outputs": [
        {
          "output_type": "execute_result",
          "data": {
            "text/plain": [
              "['ha', 'ha', 'ha']"
            ]
          },
          "metadata": {},
          "execution_count": 30
        }
      ]
    },
    {
      "cell_type": "code",
      "source": [
        "list_x2.pop()\n",
        "print(list_x2)"
      ],
      "metadata": {
        "colab": {
          "base_uri": "https://localhost:8080/"
        },
        "id": "XVgBBC-0BhDN",
        "outputId": "37613a44-39f1-4281-d4dd-73cea0403448"
      },
      "execution_count": null,
      "outputs": [
        {
          "output_type": "stream",
          "name": "stdout",
          "text": [
            "['ha', 'ha']\n"
          ]
        }
      ]
    },
    {
      "cell_type": "code",
      "source": [
        ""
      ],
      "metadata": {
        "id": "AQmr_Ps-BoSx"
      },
      "execution_count": null,
      "outputs": []
    },
    {
      "cell_type": "markdown",
      "source": [
        "### `len` ตรวจสอบจำนวนสมาชิกของ list\n",
        "\n"
      ],
      "metadata": {
        "id": "uw3jwoEhB9HA"
      }
    },
    {
      "cell_type": "code",
      "source": [
        "print(list_b)\n",
        "print(len(list_b))"
      ],
      "metadata": {
        "colab": {
          "base_uri": "https://localhost:8080/"
        },
        "id": "6zHqqLDMCKMR",
        "outputId": "070cd01b-0283-417b-8fe9-4febf2bfc17f"
      },
      "execution_count": null,
      "outputs": [
        {
          "output_type": "stream",
          "name": "stdout",
          "text": [
            "['ab', 2, 3.14, [1, 2, 3, 4, 5, 6]]\n",
            "4\n"
          ]
        }
      ]
    },
    {
      "cell_type": "code",
      "source": [
        "len(list_a)"
      ],
      "metadata": {
        "colab": {
          "base_uri": "https://localhost:8080/"
        },
        "id": "aM3vgOk9CTlg",
        "outputId": "b772ff15-bc7b-45b9-ca3d-04e8bf8ef3f4"
      },
      "execution_count": null,
      "outputs": [
        {
          "output_type": "execute_result",
          "data": {
            "text/plain": [
              "6"
            ]
          },
          "metadata": {},
          "execution_count": 33
        }
      ]
    },
    {
      "cell_type": "markdown",
      "source": [
        "### String is a list of characters"
      ],
      "metadata": {
        "id": "XHr8FFltCh3R"
      }
    },
    {
      "cell_type": "code",
      "source": [
        "st_stat = 'Department of Statistics, Faculyt of Science'"
      ],
      "metadata": {
        "id": "Zxy1DChgCoEB"
      },
      "execution_count": null,
      "outputs": []
    },
    {
      "cell_type": "code",
      "source": [
        "st_stat[10]"
      ],
      "metadata": {
        "colab": {
          "base_uri": "https://localhost:8080/",
          "height": 35
        },
        "id": "k2Xn-o20DFQw",
        "outputId": "89a86228-e592-4c1f-c0c3-f86eb1b8447c"
      },
      "execution_count": null,
      "outputs": [
        {
          "output_type": "execute_result",
          "data": {
            "application/vnd.google.colaboratory.intrinsic+json": {
              "type": "string"
            },
            "text/plain": [
              "' '"
            ]
          },
          "metadata": {},
          "execution_count": 35
        }
      ]
    },
    {
      "cell_type": "code",
      "source": [
        "len(st_stat)"
      ],
      "metadata": {
        "colab": {
          "base_uri": "https://localhost:8080/"
        },
        "id": "V0Th-G2xDMCg",
        "outputId": "8ac9b921-085a-4b49-8b90-30da04ec5404"
      },
      "execution_count": null,
      "outputs": [
        {
          "output_type": "execute_result",
          "data": {
            "text/plain": [
              "44"
            ]
          },
          "metadata": {},
          "execution_count": 36
        }
      ]
    },
    {
      "cell_type": "markdown",
      "source": [
        "### List Slicing\n",
        "\n",
        "\n",
        "\n",
        "\n"
      ],
      "metadata": {
        "id": "Y8WIAG5mDrNA"
      }
    },
    {
      "cell_type": "markdown",
      "source": [
        "`list [จุดเริ่มต้น(ทึบ):จุดสุดท้าย(โปร่ง)]`\n",
        "\n",
        "`list [จุดเริ่มต้น(ทึบ):จุดสุดท้าย(โปร่ง):step]`"
      ],
      "metadata": {
        "id": "8uKyx5cZEtbX"
      }
    },
    {
      "cell_type": "markdown",
      "source": [
        "#### : colon"
      ],
      "metadata": {
        "id": "ZuKjDApKG2LG"
      }
    },
    {
      "cell_type": "code",
      "source": [
        "list_a"
      ],
      "metadata": {
        "colab": {
          "base_uri": "https://localhost:8080/"
        },
        "id": "5h_0PK_rDvow",
        "outputId": "2247b0cc-90ff-4182-f920-4146322b841c"
      },
      "execution_count": null,
      "outputs": [
        {
          "output_type": "execute_result",
          "data": {
            "text/plain": [
              "[1, 2, 3, 4, 5, 6]"
            ]
          },
          "metadata": {},
          "execution_count": 37
        }
      ]
    },
    {
      "cell_type": "code",
      "source": [
        "list_a[-3:] # colon -> a:ช่องว่าง ใช้เมื่อต้องการจาก a ถึง จุดสุดท้าย"
      ],
      "metadata": {
        "colab": {
          "base_uri": "https://localhost:8080/"
        },
        "id": "L_-qW3spDy5o",
        "outputId": "27ad9a9b-d9e3-4141-e537-b5b4008d83f7"
      },
      "execution_count": null,
      "outputs": [
        {
          "output_type": "execute_result",
          "data": {
            "text/plain": [
              "[4, 5, 6]"
            ]
          },
          "metadata": {},
          "execution_count": 39
        }
      ]
    },
    {
      "cell_type": "code",
      "source": [
        "list_a[1:4]"
      ],
      "metadata": {
        "colab": {
          "base_uri": "https://localhost:8080/"
        },
        "id": "BzeltIgIErwU",
        "outputId": "d38a573d-e88a-4dcc-8523-c341fb37a113"
      },
      "execution_count": null,
      "outputs": [
        {
          "output_type": "execute_result",
          "data": {
            "text/plain": [
              "[2, 3, 4]"
            ]
          },
          "metadata": {},
          "execution_count": 40
        }
      ]
    },
    {
      "cell_type": "code",
      "source": [
        "list_a[:]"
      ],
      "metadata": {
        "colab": {
          "base_uri": "https://localhost:8080/"
        },
        "id": "inR1trDOGitT",
        "outputId": "33d40118-dbad-4c3f-c99c-92b4ab62ee2b"
      },
      "execution_count": null,
      "outputs": [
        {
          "output_type": "execute_result",
          "data": {
            "text/plain": [
              "[1, 2, 3, 4, 5, 6]"
            ]
          },
          "metadata": {},
          "execution_count": 41
        }
      ]
    },
    {
      "cell_type": "markdown",
      "source": [
        "####step"
      ],
      "metadata": {
        "id": "uy-1UENgGwqG"
      }
    },
    {
      "cell_type": "code",
      "source": [
        "list_c = [1,2,3,4,5,6,7,8,9,10,11,12,13]"
      ],
      "metadata": {
        "id": "sclgOQbIGn6P"
      },
      "execution_count": null,
      "outputs": []
    },
    {
      "cell_type": "code",
      "source": [
        "list_c[:10:]"
      ],
      "metadata": {
        "colab": {
          "base_uri": "https://localhost:8080/"
        },
        "id": "43_WIZxHHAuQ",
        "outputId": "850b09fe-80a2-4d08-d0f8-263154b4941b"
      },
      "execution_count": null,
      "outputs": [
        {
          "output_type": "execute_result",
          "data": {
            "text/plain": [
              "[1, 2, 3, 4, 5, 6, 7, 8, 9, 10]"
            ]
          },
          "metadata": {},
          "execution_count": 44
        }
      ]
    },
    {
      "cell_type": "code",
      "source": [
        "list_c[:10:2]"
      ],
      "metadata": {
        "colab": {
          "base_uri": "https://localhost:8080/"
        },
        "id": "VYpXkKCbHSXe",
        "outputId": "cabf3923-3ffd-44dc-c997-05548140e190"
      },
      "execution_count": null,
      "outputs": [
        {
          "output_type": "execute_result",
          "data": {
            "text/plain": [
              "[1, 3, 5, 7, 9]"
            ]
          },
          "metadata": {},
          "execution_count": 45
        }
      ]
    },
    {
      "cell_type": "code",
      "source": [
        "list_c[::-1]"
      ],
      "metadata": {
        "colab": {
          "base_uri": "https://localhost:8080/"
        },
        "id": "1QR6j-7lHRHN",
        "outputId": "e7d05c86-ad5e-4ffe-ba19-5d08920990ea"
      },
      "execution_count": null,
      "outputs": [
        {
          "output_type": "execute_result",
          "data": {
            "text/plain": [
              "[13, 12, 11, 10, 9, 8, 7, 6, 5, 4, 3, 2, 1]"
            ]
          },
          "metadata": {},
          "execution_count": 46
        }
      ]
    },
    {
      "cell_type": "markdown",
      "source": [
        "### `range()`\n",
        "\n"
      ],
      "metadata": {
        "id": "6XmKtb-fH4OK"
      }
    },
    {
      "cell_type": "code",
      "source": [
        "a = list(range(21))"
      ],
      "metadata": {
        "id": "jy2pB_YwHnSf"
      },
      "execution_count": 12,
      "outputs": []
    },
    {
      "cell_type": "code",
      "source": [
        "a"
      ],
      "metadata": {
        "colab": {
          "base_uri": "https://localhost:8080/"
        },
        "id": "64vZ6MLDILf1",
        "outputId": "a48dc592-0bad-4cc2-9cf6-f7cf1c75a2fc"
      },
      "execution_count": 13,
      "outputs": [
        {
          "output_type": "execute_result",
          "data": {
            "text/plain": [
              "[0, 1, 2, 3, 4, 5, 6, 7, 8, 9, 10, 11, 12, 13, 14, 15, 16, 17, 18, 19, 20]"
            ]
          },
          "metadata": {},
          "execution_count": 13
        }
      ]
    },
    {
      "cell_type": "code",
      "source": [
        "range(21)"
      ],
      "metadata": {
        "colab": {
          "base_uri": "https://localhost:8080/"
        },
        "id": "mtzucEhBIale",
        "outputId": "650d9b71-613d-4079-fe1e-f07632203399"
      },
      "execution_count": 14,
      "outputs": [
        {
          "output_type": "execute_result",
          "data": {
            "text/plain": [
              "range(0, 21)"
            ]
          },
          "metadata": {},
          "execution_count": 14
        }
      ]
    },
    {
      "cell_type": "code",
      "source": [
        "list(range(1,21))"
      ],
      "metadata": {
        "colab": {
          "base_uri": "https://localhost:8080/"
        },
        "id": "IPcPQYbeIfD2",
        "outputId": "3a7f0e53-2647-4f48-df20-a1d06ec661ee"
      },
      "execution_count": 15,
      "outputs": [
        {
          "output_type": "execute_result",
          "data": {
            "text/plain": [
              "[1, 2, 3, 4, 5, 6, 7, 8, 9, 10, 11, 12, 13, 14, 15, 16, 17, 18, 19, 20]"
            ]
          },
          "metadata": {},
          "execution_count": 15
        }
      ]
    },
    {
      "cell_type": "markdown",
      "source": [
        "คำนวณเวลาเป็นวินาทีของเวลาต่อไปนี้โดยใช้คำสั่ง split() ช่วย (print ออกมาให้สวยงาม)\n",
        "- 12:30:15\n",
        "- 13:41:07\n",
        "- 09:11:50\n",
        "- 21:30:15\n",
        "- 03:10:15"
      ],
      "metadata": {
        "id": "Rk-9QFXkI-zq"
      }
    },
    {
      "cell_type": "code",
      "source": [
        "#ตัวอย่าง 01:02:03\n",
        "\n",
        "a = (1*60*60) + (2*60) + 3\n",
        "print(f'01:02:03 แปลงเป็นวินาที ได้ {a} วินาที')"
      ],
      "metadata": {
        "colab": {
          "base_uri": "https://localhost:8080/"
        },
        "id": "4xbel1f3Jkm9",
        "outputId": "9667dae7-694a-4afe-eeb5-281f9db13628"
      },
      "execution_count": 16,
      "outputs": [
        {
          "output_type": "stream",
          "name": "stdout",
          "text": [
            "01:02:03 แปลงเป็นวินาที ได้ 3723 วินาที\n"
          ]
        }
      ]
    },
    {
      "cell_type": "code",
      "source": [
        "#ข้อ 1 12:30:15\n",
        "A = '12:30:15' #เวลา 12:30:15 เป็น string และกำหนดให้เป็น A\n",
        "str_A = A.split(':') # แยก 12:30:15 ออกจากกันโดยใช้คำสั่ง split() แยกเป็น 'ชั่วโมง' 'นาที' และ'วินาที' \n",
        "# ค่าที่แยกก่อนหน้านี้เป็น string ต้องแปลงให้เป็น int ก่อนถึงจะนำมาแปลง(คูณและบวก)เป็นวินาทีได้\n",
        "a0 = int(str_A[0])\n",
        "a1 = int(str_A[1])\n",
        "a2 = int(str_A[2])\n",
        "Ans1 = a0*60*60 + a1*60 + a2 #หรือเขียนรวมเป็น Ans1 = int(str_A[0])*60*60 + int(str_A[1])*60 + int(str_A[2])เลยก็ได้\n",
        "print(f'12:30:15 แปลงเป็นวินาที ได้ {Ans1} วินาที' ) #แสดงผลลัพธ์"
      ],
      "metadata": {
        "colab": {
          "base_uri": "https://localhost:8080/"
        },
        "id": "keycY7D2bQ-N",
        "outputId": "59b031f6-2ae4-48d4-d45c-4fdfc90ddf7f"
      },
      "execution_count": 3,
      "outputs": [
        {
          "output_type": "stream",
          "name": "stdout",
          "text": [
            "12:30:15 แปลงเป็นวินาที ได้ 45015 วินาที\n"
          ]
        }
      ]
    },
    {
      "cell_type": "code",
      "source": [
        "#ข้อ 2 13:41:07\n",
        "B = '13:41:07'\n",
        "str_B = B.split(':')\n",
        "b0 = int(str_B[0])\n",
        "b1 = int(str_B[1])\n",
        "b2 = int(str_B[2])\n",
        "Ans2 = b0*60*60 + b1*60 + b2\n",
        "print(f'13:41:07 แปลงเป็นวินาที ได้ {Ans2} วินาที' )"
      ],
      "metadata": {
        "colab": {
          "base_uri": "https://localhost:8080/"
        },
        "id": "YP99_FfCgOv0",
        "outputId": "36d2dafc-4f5d-4f44-8777-e1f61d2ffaa7"
      },
      "execution_count": 4,
      "outputs": [
        {
          "output_type": "stream",
          "name": "stdout",
          "text": [
            "13:41:07 แปลงเป็นวินาที ได้ 49267 วินาที\n"
          ]
        }
      ]
    },
    {
      "cell_type": "code",
      "source": [
        "#ข้อ 3 09:11:50\n",
        "C = '09:11:50'\n",
        "str_C = C.split(':')\n",
        "c0 = int(str_C[0])\n",
        "c1 = int(str_C[1])\n",
        "c2 = int(str_C[2])\n",
        "Ans3 = c0*60*60 + c1*60 + c2\n",
        "print(f'09:11:50 แปลงเป็นวินาที ได้ {Ans3} วินาที' )"
      ],
      "metadata": {
        "colab": {
          "base_uri": "https://localhost:8080/"
        },
        "id": "A5wWikf7hbnM",
        "outputId": "449af882-50ef-489d-b237-7e0ce25504b5"
      },
      "execution_count": 6,
      "outputs": [
        {
          "output_type": "stream",
          "name": "stdout",
          "text": [
            "09:11:50 แปลงเป็นวินาที ได้ 33110 วินาที\n"
          ]
        }
      ]
    },
    {
      "cell_type": "code",
      "source": [
        "#ข้อ 4 21:30:15\n",
        "D = '21:30:15'\n",
        "str_D = D.split(':')\n",
        "d0 = int(str_D[0])\n",
        "d1 = int(str_D[1])\n",
        "d2 = int(str_D[2])\n",
        "Ans4 = d0*60*60 + d1*60 + d2\n",
        "print(f'21:30:15 แปลงเป็นวินาที ได้ {Ans4} วินาที' )"
      ],
      "metadata": {
        "colab": {
          "base_uri": "https://localhost:8080/"
        },
        "id": "sy6Xfeg7hoxr",
        "outputId": "601ea144-5778-4730-fbf2-723bb193e73b"
      },
      "execution_count": 7,
      "outputs": [
        {
          "output_type": "stream",
          "name": "stdout",
          "text": [
            "21:30:15 แปลงเป็นวินาที ได้ 77415 วินาที\n"
          ]
        }
      ]
    },
    {
      "cell_type": "code",
      "source": [
        "#ข้อ 5 03:10:15\n",
        "E = '03:10:15'\n",
        "str_E = E.split(':')\n",
        "e0 = int(str_E[0])\n",
        "e1 = int(str_E[1])\n",
        "e2 = int(str_E[2])\n",
        "Ans5 = e0*60*60 + e1*60 + e2\n",
        "print(f'03:10:15 แปลงเป็นวินาที ได้ {Ans5} วินาที' )"
      ],
      "metadata": {
        "colab": {
          "base_uri": "https://localhost:8080/"
        },
        "id": "B7tfhb0Gh1LE",
        "outputId": "3ebd5426-690b-42b5-e2c9-bc701b703df2"
      },
      "execution_count": 8,
      "outputs": [
        {
          "output_type": "stream",
          "name": "stdout",
          "text": [
            "03:10:15 แปลงเป็นวินาที ได้ 11415 วินาที\n"
          ]
        }
      ]
    }
  ]
}